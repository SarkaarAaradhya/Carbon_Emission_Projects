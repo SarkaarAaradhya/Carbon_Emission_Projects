{
 "cells": [
  {
   "cell_type": "code",
   "execution_count": 12,
   "id": "d17d4378",
   "metadata": {},
   "outputs": [
    {
     "name": "stdout",
     "output_type": "stream",
     "text": [
      "Cleaned data saved to: Vehicle_Emission_Predictor/data\\cleaned_emissions.csv\n"
     ]
    }
   ],
   "source": [
    "import os\n",
    "import pandas as pd\n",
    "\n",
    "# Load the data\n",
    "data = pd.read_csv('CO2 Emissions_Canada.csv')\n",
    "\n",
    "# Data cleaning process.....\n",
    "data = data.dropna()  # Remove rows with missing values\n",
    "data.columns = data.columns.str.lower().str.replace(' ', '').str.replace('[^a-z0-9]', '', regex=True)\n",
    "\n",
    "# Define output file path\n",
    "output_dir = r'Vehicle_Emission_Predictor/data'\n",
    "output_file = os.path.join(output_dir, 'cleaned_emissions.csv')\n",
    "\n",
    "# Ensure the directory exists\n",
    "os.makedirs(output_dir, exist_ok=True)\n",
    "\n",
    "# Save the cleaned dataset\n",
    "try:\n",
    "    data.to_csv(output_file, index=False)\n",
    "    print(f\"Cleaned data saved to: {output_file}\")\n",
    "except Exception as e:\n",
    "    print(f\"An error occurred: {e}\")\n"
   ]
  },
  {
   "cell_type": "code",
   "execution_count": 13,
   "id": "e5c204cc",
   "metadata": {},
   "outputs": [
    {
     "name": "stdout",
     "output_type": "stream",
     "text": [
      "Data loaded successfully from: Vehicle_Emission_Predictor/data/cleaned_emissions.csv\n",
      "First few rows of the dataset:\n",
      "     make       model vehicleclass  enginesizel  cylinders transmission  \\\n",
      "0  ACURA         ILX      COMPACT          2.0          4          AS5   \n",
      "1  ACURA         ILX      COMPACT          2.4          4           M6   \n",
      "2  ACURA  ILX HYBRID      COMPACT          1.5          4          AV7   \n",
      "3  ACURA     MDX 4WD  SUV - SMALL          3.5          6          AS6   \n",
      "4  ACURA     RDX AWD  SUV - SMALL          3.5          6          AS6   \n",
      "\n",
      "  fueltype  fuelconsumptioncityl100km  fuelconsumptionhwyl100km  \\\n",
      "0        Z                        9.9                       6.7   \n",
      "1        Z                       11.2                       7.7   \n",
      "2        Z                        6.0                       5.8   \n",
      "3        Z                       12.7                       9.1   \n",
      "4        Z                       12.1                       8.7   \n",
      "\n",
      "   fuelconsumptioncombl100km  fuelconsumptioncombmpg  co2emissionsgkm  \n",
      "0                        8.5                      33              196  \n",
      "1                        9.6                      29              221  \n",
      "2                        5.9                      48              136  \n",
      "3                       11.1                      25              255  \n",
      "4                       10.6                      27              244  \n",
      "\n",
      "Columns in the dataset: Index(['make', 'model', 'vehicleclass', 'enginesizel', 'cylinders',\n",
      "       'transmission', 'fueltype', 'fuelconsumptioncityl100km',\n",
      "       'fuelconsumptionhwyl100km', 'fuelconsumptioncombl100km',\n",
      "       'fuelconsumptioncombmpg', 'co2emissionsgkm'],\n",
      "      dtype='object')\n",
      "\n",
      "Missing values in each column:\n",
      " make                         0\n",
      "model                        0\n",
      "vehicleclass                 0\n",
      "enginesizel                  0\n",
      "cylinders                    0\n",
      "transmission                 0\n",
      "fueltype                     0\n",
      "fuelconsumptioncityl100km    0\n",
      "fuelconsumptionhwyl100km     0\n",
      "fuelconsumptioncombl100km    0\n",
      "fuelconsumptioncombmpg       0\n",
      "co2emissionsgkm              0\n",
      "dtype: int64\n",
      "\n",
      "Data after cleaning:\n",
      "     make       model vehicleclass  enginesizel  cylinders transmission  \\\n",
      "0  ACURA         ILX      COMPACT          2.0          4          AS5   \n",
      "1  ACURA         ILX      COMPACT          2.4          4           M6   \n",
      "2  ACURA  ILX HYBRID      COMPACT          1.5          4          AV7   \n",
      "3  ACURA     MDX 4WD  SUV - SMALL          3.5          6          AS6   \n",
      "4  ACURA     RDX AWD  SUV - SMALL          3.5          6          AS6   \n",
      "\n",
      "  fueltype  fuelconsumptioncityl100km  fuelconsumptionhwyl100km  \\\n",
      "0        Z                        9.9                       6.7   \n",
      "1        Z                       11.2                       7.7   \n",
      "2        Z                        6.0                       5.8   \n",
      "3        Z                       12.7                       9.1   \n",
      "4        Z                       12.1                       8.7   \n",
      "\n",
      "   fuelconsumptioncombl100km  fuelconsumptioncombmpg  co2emissionsgkm  \n",
      "0                        8.5                      33              196  \n",
      "1                        9.6                      29              221  \n",
      "2                        5.9                      48              136  \n",
      "3                       11.1                      25              255  \n",
      "4                       10.6                      27              244  \n",
      "Error: \"None of [Index(['engine_size', 'year', 'fuel_type'], dtype='object')] are in the [columns]\"\n",
      "Please check the column names in the dataset.\n"
     ]
    }
   ],
   "source": [
    "import pandas as pd\n",
    "\n",
    "# Path to the cleaned data\n",
    "data_path = r'Vehicle_Emission_Predictor/data/cleaned_emissions.csv'\n",
    "\n",
    "# Load the cleaned data\n",
    "try:\n",
    "    data = pd.read_csv(data_path)\n",
    "    print(f\"Data loaded successfully from: {data_path}\")\n",
    "except FileNotFoundError:\n",
    "    print(f\"File not found at the specified path: {data_path}\")\n",
    "    exit()\n",
    "except Exception as e:\n",
    "    print(f\"An error occurred while loading the data: {e}\")\n",
    "    exit()\n",
    "\n",
    "# Inspect the dataset\n",
    "print(\"First few rows of the dataset:\\n\", data.head())\n",
    "print(\"\\nColumns in the dataset:\", data.columns)\n",
    "\n",
    "# Data cleaning (if necessary)\n",
    "print(\"\\nMissing values in each column:\\n\", data.isnull().sum())\n",
    "data = data.dropna()  # Drop rows with missing values\n",
    "print(\"\\nData after cleaning:\\n\", data.head())\n",
    "\n",
    "# Select features and target\n",
    "try:\n",
    "    X = data[['engine_size', 'year', 'fuel_type']]\n",
    "    y = data['emissions']\n",
    "    print(\"\\nFeatures and target selected successfully.\")\n",
    "except KeyError as e:\n",
    "    print(f\"Error: {e}\")\n",
    "    print(\"Please check the column names in the dataset.\")\n"
   ]
  },
  {
   "cell_type": "code",
   "execution_count": null,
   "id": "ad3fa64c",
   "metadata": {},
   "outputs": [],
   "source": []
  },
  {
   "cell_type": "code",
   "execution_count": 18,
   "id": "e09f2320",
   "metadata": {},
   "outputs": [
    {
     "name": "stdout",
     "output_type": "stream",
     "text": [
      "    make       model vehicleclass  enginesizel  cylinders transmission  \\\n",
      "0  ACURA         ILX      COMPACT          2.0          4          AS5   \n",
      "1  ACURA         ILX      COMPACT          2.4          4           M6   \n",
      "2  ACURA  ILX HYBRID      COMPACT          1.5          4          AV7   \n",
      "3  ACURA     MDX 4WD  SUV - SMALL          3.5          6          AS6   \n",
      "4  ACURA     RDX AWD  SUV - SMALL          3.5          6          AS6   \n",
      "\n",
      "  fueltype  fuelconsumptioncityl100km  fuelconsumptionhwyl100km  \\\n",
      "0   Petrol                        9.9                       6.7   \n",
      "1   Petrol                       11.2                       7.7   \n",
      "2   Hybrid                        6.0                       5.8   \n",
      "3   Hybrid                       12.7                       9.1   \n",
      "4   Hybrid                       12.1                       8.7   \n",
      "\n",
      "   fuelconsumptioncombl100km  fuelconsumptioncombmpg  co2emissionsgkm  \n",
      "0                        8.5                      33              196  \n",
      "1                        9.6                      29              221  \n",
      "2                        5.9                      48              136  \n",
      "3                       11.1                      25              255  \n",
      "4                       10.6                      27              244  \n"
     ]
    }
   ],
   "source": [
    "import pandas as pd\n",
    "import random\n",
    "\n",
    "# Load the dataset\n",
    "project_dir = os.getcwd()  # Assuming you're running from the project directory\n",
    "file_path = os.path.join(project_dir, 'Vehicle_Emission_Predictor/data/cleaned_emissions.csv')\n",
    "\n",
    "data = pd.read_csv(file_path)\n",
    "\n",
    "# List of valid fuel types\n",
    "fuel_types = ['Petrol', 'Diesel', 'Electric', 'Hybrid']\n",
    "\n",
    "# Randomly assign a fuel type from the list for each row in the 'fueltype' column\n",
    "data['fueltype'] = [random.choice(fuel_types) for _ in range(len(data))]\n",
    "\n",
    "# Optionally, you can save this modified dataset to a new CSV file\n",
    "modified_file_path = os.path.join(project_dir, 'Vehicle_Emission_Predictor/data/modified_emissions.csv')\n",
    "data.to_csv(modified_file_path, index=False)\n",
    "\n",
    "# Check the first few rows of the modified dataset\n",
    "print(data.head())\n"
   ]
  },
  {
   "cell_type": "code",
   "execution_count": 25,
   "id": "0a848c32",
   "metadata": {},
   "outputs": [
    {
     "name": "stdout",
     "output_type": "stream",
     "text": [
      "C:\\Users\\kumar\\Desktop\\Aaradhya's Project\n"
     ]
    }
   ],
   "source": [
    "print(os.getcwd())"
   ]
  },
  {
   "cell_type": "code",
   "execution_count": 26,
   "id": "53c7ad7e",
   "metadata": {},
   "outputs": [
    {
     "name": "stdout",
     "output_type": "stream",
     "text": [
      "File path: C:\\Users\\kumar\\Desktop\\Aaradhya's Project\\Vehicle_emission_Predictor\\data\\cleaned_emissions.csv\n",
      "    make       model vehicleclass  enginesizel  cylinders transmission  \\\n",
      "0  ACURA         ILX      COMPACT          2.0          4          AS5   \n",
      "1  ACURA         ILX      COMPACT          2.4          4           M6   \n",
      "2  ACURA  ILX HYBRID      COMPACT          1.5          4          AV7   \n",
      "3  ACURA     MDX 4WD  SUV - SMALL          3.5          6          AS6   \n",
      "4  ACURA     RDX AWD  SUV - SMALL          3.5          6          AS6   \n",
      "\n",
      "  fueltype  fuelconsumptioncityl100km  fuelconsumptionhwyl100km  \\\n",
      "0        Z                        9.9                       6.7   \n",
      "1        Z                       11.2                       7.7   \n",
      "2        Z                        6.0                       5.8   \n",
      "3        Z                       12.7                       9.1   \n",
      "4        Z                       12.1                       8.7   \n",
      "\n",
      "   fuelconsumptioncombl100km  fuelconsumptioncombmpg  co2emissionsgkm  \n",
      "0                        8.5                      33              196  \n",
      "1                        9.6                      29              221  \n",
      "2                        5.9                      48              136  \n",
      "3                       11.1                      25              255  \n",
      "4                       10.6                      27              244  \n",
      "    make       model vehicleclass  engine_size  cylinders transmission fuel  \\\n",
      "0  ACURA         ILX      COMPACT          2.0          4          AS5    Z   \n",
      "1  ACURA         ILX      COMPACT          2.4          4           M6    Z   \n",
      "2  ACURA  ILX HYBRID      COMPACT          1.5          4          AV7    Z   \n",
      "3  ACURA     MDX 4WD  SUV - SMALL          3.5          6          AS6    Z   \n",
      "4  ACURA     RDX AWD  SUV - SMALL          3.5          6          AS6    Z   \n",
      "\n",
      "   fuel_consumption_city  fuel_consumption_highway  fuelconsumptioncombl100km  \\\n",
      "0                    9.9                       6.7                        8.5   \n",
      "1                   11.2                       7.7                        9.6   \n",
      "2                    6.0                       5.8                        5.9   \n",
      "3                   12.7                       9.1                       11.1   \n",
      "4                   12.1                       8.7                       10.6   \n",
      "\n",
      "   fuelconsumptioncombmpg  co2_emissions  \n",
      "0                      33            196  \n",
      "1                      29            221  \n",
      "2                      48            136  \n",
      "3                      25            255  \n",
      "4                      27            244  \n"
     ]
    }
   ],
   "source": [
    "import os\n",
    "import pandas as pd\n",
    "\n",
    "# Get the current working directory\n",
    "project_dir = os.getcwd()\n",
    "print\n",
    "# Build the path to the cleaned_emissions.csv file based on the current directory\n",
    "file_path = os.path.join(project_dir, 'Vehicle_emission_Predictor','data', 'cleaned_emissions.csv')\n",
    "\n",
    "# Print the file path to ensure it's correct\n",
    "print(f\"File path: {file_path}\")\n",
    "\n",
    "# Check if the file exists\n",
    "if not os.path.exists(file_path):\n",
    "    print(f\"Error: The file at {file_path} does not exist.\")\n",
    "else:\n",
    "    # Load the cleaned dataset\n",
    "    try:\n",
    "        data = pd.read_csv(file_path)\n",
    "        # Print the first few rows of the dataset to check\n",
    "        print(data.head())\n",
    "\n",
    "        # Rename columns for better clarity\n",
    "        data = data.rename(columns={\n",
    "            'enginesizel': 'engine_size',\n",
    "            'fueltype': 'fuel',\n",
    "            'co2emissionsgkm': 'co2_emissions',\n",
    "            'fuelconsumptioncityl100km': 'fuel_consumption_city',\n",
    "            'fuelconsumptionhwyl100km': 'fuel_consumption_highway'\n",
    "        })\n",
    "\n",
    "        # Print the modified dataset columns\n",
    "        print(data.head())\n",
    "\n",
    "    except Exception as e:\n",
    "        print(f\"Error loading the file: {e}\")\n"
   ]
  },
  {
   "cell_type": "code",
   "execution_count": 27,
   "id": "bd00329f",
   "metadata": {},
   "outputs": [
    {
     "name": "stdout",
     "output_type": "stream",
     "text": [
      "   engine_size  fuel_consumption_city  fuel_consumption_highway  cylinders  \\\n",
      "0          2.0                    9.9                       6.7          4   \n",
      "1          2.4                   11.2                       7.7          4   \n",
      "2          1.5                    6.0                       5.8          4   \n",
      "3          3.5                   12.7                       9.1          6   \n",
      "4          3.5                   12.1                       8.7          6   \n",
      "\n",
      "   fuel_E  fuel_N  fuel_X  fuel_Z  \n",
      "0   False   False   False    True  \n",
      "1   False   False   False    True  \n",
      "2   False   False   False    True  \n",
      "3   False   False   False    True  \n",
      "4   False   False   False    True  \n"
     ]
    }
   ],
   "source": [
    "# Select the features (X) and target (y)\n",
    "X = data[['engine_size', 'fuel', 'fuel_consumption_city', 'fuel_consumption_highway', 'cylinders']]  # Example features\n",
    "y = data['co2_emissions']  # Target variable\n",
    "\n",
    "# One-hot encode the 'fuel' column and drop the first category to avoid multicollinearity\n",
    "X = pd.get_dummies(X, columns=['fuel'], drop_first=True)\n",
    "\n",
    "# Check if one-hot encoding worked\n",
    "print(X.head())\n"
   ]
  },
  {
   "cell_type": "code",
   "execution_count": 28,
   "id": "7da9cefe",
   "metadata": {},
   "outputs": [
    {
     "name": "stdout",
     "output_type": "stream",
     "text": [
      "(5908, 8) (1477, 8)\n"
     ]
    }
   ],
   "source": [
    "# Split the data into training and testing sets\n",
    "X_train, X_test, y_train, y_test = train_test_split(X, y, test_size=0.2, random_state=42)\n",
    "\n",
    "# Check the split data shapes\n",
    "print(X_train.shape, X_test.shape)\n"
   ]
  },
  {
   "cell_type": "code",
   "execution_count": 29,
   "id": "7cd401aa",
   "metadata": {},
   "outputs": [
    {
     "name": "stdout",
     "output_type": "stream",
     "text": [
      "[[-0.12149345 -0.33509065 -0.42937884  0.20534188 -0.22802259  0.\n",
      "  -0.98822103  1.14162772]\n",
      " [ 0.6141664   0.6072775   0.56440556  0.20534188 -0.22802259  0.\n",
      "   1.01191937 -0.87594229]\n",
      " [-0.12149345  0.350268   -0.02283068  0.20534188 -0.22802259  0.\n",
      "  -0.98822103  1.14162772]\n",
      " [ 0.17277049 -0.36364727 -0.51972288  0.20534188 -0.22802259  0.\n",
      "  -0.98822103  1.14162772]\n",
      " [-0.85715331 -0.70632659 -0.92627105 -0.88513888 -0.22802259  0.\n",
      "  -0.98822103  1.14162772]]\n"
     ]
    }
   ],
   "source": [
    "# Initialize the StandardScaler\n",
    "scaler = StandardScaler()\n",
    "\n",
    "# Fit and transform the scaler on the training data\n",
    "X_train_scaled = scaler.fit_transform(X_train)\n",
    "\n",
    "# Transform the test data using the same scaler\n",
    "X_test_scaled = scaler.transform(X_test)\n",
    "\n",
    "# Ensure the scaling was done correctly\n",
    "print(X_train_scaled[:5])\n"
   ]
  },
  {
   "cell_type": "code",
   "execution_count": 30,
   "id": "f1e8d1b3",
   "metadata": {},
   "outputs": [
    {
     "name": "stdout",
     "output_type": "stream",
     "text": [
      "Training R-squared: 0.9915\n",
      "Testing R-squared: 0.9884\n"
     ]
    }
   ],
   "source": [
    "# Initialize and train the Linear Regression model\n",
    "model = LinearRegression()\n",
    "model.fit(X_train_scaled, y_train)\n",
    "\n",
    "# Check the R-squared score on the training data\n",
    "print(f\"Training R-squared: {model.score(X_train_scaled, y_train):.4f}\")\n",
    "\n",
    "# Check the R-squared score on the testing data\n",
    "print(f\"Testing R-squared: {model.score(X_test_scaled, y_test):.4f}\")\n"
   ]
  },
  {
   "cell_type": "code",
   "execution_count": 31,
   "id": "10b62170",
   "metadata": {},
   "outputs": [
    {
     "name": "stdout",
     "output_type": "stream",
     "text": [
      "Mean Squared Error: 39.86\n"
     ]
    }
   ],
   "source": [
    "from sklearn.metrics import mean_squared_error\n",
    "\n",
    "# Predict the values on the test set\n",
    "y_pred = model.predict(X_test_scaled)\n",
    "\n",
    "# Calculate Mean Squared Error\n",
    "mse = mean_squared_error(y_test, y_pred)\n",
    "print(f\"Mean Squared Error: {mse:.2f}\")\n"
   ]
  },
  {
   "cell_type": "code",
   "execution_count": 32,
   "id": "7de936f4",
   "metadata": {},
   "outputs": [
    {
     "name": "stdout",
     "output_type": "stream",
     "text": [
      "Model and scaler saved successfully!\n"
     ]
    }
   ],
   "source": [
    "# Create a directory for saving the model and scaler\n",
    "model_dir = os.path.join(project_dir, 'model')\n",
    "os.makedirs(model_dir, exist_ok=True)\n",
    "\n",
    "# Save the trained model\n",
    "with open(os.path.join(model_dir, 'emissions_model.pkl'), 'wb') as model_file:\n",
    "    pickle.dump(model, model_file)\n",
    "\n",
    "# Save the scaler\n",
    "with open(os.path.join(model_dir, 'scaler.pkl'), 'wb') as scaler_file:\n",
    "    pickle.dump(scaler, scaler_file)\n",
    "\n",
    "print(\"Model and scaler saved successfully!\")\n"
   ]
  },
  {
   "cell_type": "code",
   "execution_count": 33,
   "id": "c236f3d6",
   "metadata": {},
   "outputs": [
    {
     "name": "stdout",
     "output_type": "stream",
     "text": [
      "Predicted CO2 Emissions: 25171.06 kg/year\n"
     ]
    },
    {
     "name": "stderr",
     "output_type": "stream",
     "text": [
      "C:\\Users\\kumar\\anaconda3\\lib\\site-packages\\sklearn\\base.py:465: UserWarning: X does not have valid feature names, but StandardScaler was fitted with feature names\n",
      "  warnings.warn(\n"
     ]
    }
   ],
   "source": [
    "# Load the saved model and scaler\n",
    "with open(os.path.join(model_dir, 'emissions_model.pkl'), 'rb') as model_file:\n",
    "    model = pickle.load(model_file)\n",
    "\n",
    "with open(os.path.join(model_dir, 'scaler.pkl'), 'rb') as scaler_file:\n",
    "    scaler = pickle.load(scaler_file)\n",
    "\n",
    "# Example input for prediction (engine_size, year, fuel_type, fuel_consumption_city, fuel_consumption_highway, cylinders)\n",
    "example_input = [2.0, 2022, 'Diesel', 8.0, 7.5, 4]\n",
    "\n",
    "# One-hot encode the fuel type in the input\n",
    "fuel_encoded = {'Petrol': [1, 0, 0], 'Diesel': [0, 1, 0], 'Electric': [0, 0, 1], 'Hybrid': [0, 0, 0]}[example_input[2]]\n",
    "\n",
    "# Combine the input features\n",
    "input_features = [example_input[0], example_input[1]] + fuel_encoded + example_input[3:5] + [example_input[5]]\n",
    "\n",
    "# Scale the input features using the saved scaler\n",
    "input_scaled = scaler.transform([input_features])\n",
    "\n",
    "# Make the prediction\n",
    "predicted_emissions = model.predict(input_scaled)\n",
    "\n",
    "# Output the prediction\n",
    "print(f\"Predicted CO2 Emissions: {predicted_emissions[0]:.2f} kg/year\")\n"
   ]
  },
  {
   "cell_type": "code",
   "execution_count": null,
   "id": "0b799475",
   "metadata": {},
   "outputs": [],
   "source": []
  }
 ],
 "metadata": {
  "kernelspec": {
   "display_name": "Python 3 (ipykernel)",
   "language": "python",
   "name": "python3"
  },
  "language_info": {
   "codemirror_mode": {
    "name": "ipython",
    "version": 3
   },
   "file_extension": ".py",
   "mimetype": "text/x-python",
   "name": "python",
   "nbconvert_exporter": "python",
   "pygments_lexer": "ipython3",
   "version": "3.10.13"
  }
 },
 "nbformat": 4,
 "nbformat_minor": 5
}
